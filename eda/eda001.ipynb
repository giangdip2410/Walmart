{
 "cells": [
  {
   "cell_type": "markdown",
   "metadata": {},
   "source": [
    "# EDA\n",
    "- せっかくだから、Kernel見ないで全部やる（eda、前処理、学習、検証)"
   ]
  },
  {
   "cell_type": "code",
   "execution_count": null,
   "metadata": {},
   "outputs": [],
   "source": [
    "import numpy as np\n",
    "import pandas as pd\n",
    "import matplotlib.pyplot as plt\n",
    "import seaborn as sns\n",
    "from matplotlib_venn import venn2\n",
    "from ptitprince import RainCloud\n",
    "from pandarallel import pandarallel\n",
    "from datetime import datetime as dt\n",
    "pandarallel.initialize()"
   ]
  },
  {
   "cell_type": "code",
   "execution_count": null,
   "metadata": {},
   "outputs": [],
   "source": [
    "INPUT = '../input/'"
   ]
  },
  {
   "cell_type": "code",
   "execution_count": null,
   "metadata": {},
   "outputs": [],
   "source": [
    "train = pd.read_csv(INPUT+'train.csv')\n",
    "test = pd.read_csv(INPUT+'test.csv')\n",
    "features = pd.read_csv(INPUT+'features.csv')\n",
    "stores = pd.read_csv(INPUT+'stores.csv')\n",
    "sample = pd.read_csv(INPUT+'sampleSubmission.csv')"
   ]
  },
  {
   "cell_type": "markdown",
   "metadata": {},
   "source": [
    "# とりあえず見てみる\n",
    "- 欠損値なし\n",
    "- カラム少ねえ\n",
    "- Date以外数値にしてくれてる(True==1,False==0)\n",
    "- データ件数結構ある ->決定木系で実験いっぱい回したほうが良さげ？？\n",
    "- len(train):len(test) = 4:1\n",
    "- targetがマイナスまである\n",
    "- Storeの出現回数にそこまでばらつきなし\n",
    "- Deptの出現回数には結構ばらつきある\n",
    "- Holidayの割合は一緒くらい"
   ]
  },
  {
   "cell_type": "code",
   "execution_count": null,
   "metadata": {},
   "outputs": [],
   "source": [
    "train"
   ]
  },
  {
   "cell_type": "code",
   "execution_count": null,
   "metadata": {},
   "outputs": [],
   "source": [
    "train.info()"
   ]
  },
  {
   "cell_type": "code",
   "execution_count": null,
   "metadata": {},
   "outputs": [],
   "source": [
    "train.describe().T"
   ]
  },
  {
   "cell_type": "code",
   "execution_count": null,
   "metadata": {},
   "outputs": [],
   "source": [
    "train['IsHoliday'].mean()"
   ]
  },
  {
   "cell_type": "code",
   "execution_count": null,
   "metadata": {},
   "outputs": [],
   "source": [
    "sns.histplot(data=train,x='Store')"
   ]
  },
  {
   "cell_type": "code",
   "execution_count": null,
   "metadata": {},
   "outputs": [],
   "source": [
    "sns.histplot(data=train,x='Dept')"
   ]
  },
  {
   "cell_type": "code",
   "execution_count": null,
   "metadata": {},
   "outputs": [],
   "source": [
    "test"
   ]
  },
  {
   "cell_type": "code",
   "execution_count": null,
   "metadata": {},
   "outputs": [],
   "source": [
    "test.info()"
   ]
  },
  {
   "cell_type": "code",
   "execution_count": null,
   "metadata": {},
   "outputs": [],
   "source": [
    "test.describe().T"
   ]
  },
  {
   "cell_type": "code",
   "execution_count": null,
   "metadata": {},
   "outputs": [],
   "source": [
    "sns.histplot(data=test,x='Store')"
   ]
  },
  {
   "cell_type": "code",
   "execution_count": null,
   "metadata": {},
   "outputs": [],
   "source": [
    "sns.histplot(data=test,x='Dept')"
   ]
  },
  {
   "cell_type": "code",
   "execution_count": null,
   "metadata": {},
   "outputs": [],
   "source": [
    "test['IsHoliday'].mean()"
   ]
  },
  {
   "cell_type": "markdown",
   "metadata": {},
   "source": [
    "## targetの分布を見る\n",
    "- カイ二乗分布っぽい\n",
    "- 正の外れ値ヤバイ　->件数かなり少ないし除くべき？？\n",
    "- わかりにくいけどマイナスも1300件くらいある\n",
    "- これなんでRMSLEにしなかったんだろう？？(大きい値を正確に予測してほしかった？？)"
   ]
  },
  {
   "cell_type": "code",
   "execution_count": null,
   "metadata": {},
   "outputs": [],
   "source": [
    "fig, ax = plt.subplots(figsize=(8, 5))\n",
    "RainCloud(data=train, y='Weekly_Sales', orient='h', ax=ax)\n",
    "ax.grid()"
   ]
  },
  {
   "cell_type": "code",
   "execution_count": null,
   "metadata": {},
   "outputs": [],
   "source": [
    "train[['Weekly_Sales']].query('Weekly_Sales < 0')"
   ]
  },
  {
   "cell_type": "code",
   "execution_count": null,
   "metadata": {},
   "outputs": [],
   "source": [
    "#Weekly_Salesの正のやつで対数とってみる\n",
    "train_log = np.log1p(train[['Weekly_Sales']].query('Weekly_Sales>=0'))\n",
    "\n",
    "fig, ax = plt.subplots(figsize=(8, 5))\n",
    "RainCloud(data=train_log, y='Weekly_Sales', orient='h', ax=ax)\n",
    "ax.grid()"
   ]
  },
  {
   "cell_type": "markdown",
   "metadata": {},
   "source": [
    "# trainとtestの差分を見る\n",
    "- trainで未来のtestを予測するのか。今気づいた。(timeseriessplitしないと大変なことになる)\n",
    "- Store,Deptはunseenなやつなし\n",
    "- 時間があればStore,Dept毎にモデル作っても良さそう\n",
    "- Store,Deptは分布も一緒だから気にしないで良い"
   ]
  },
  {
   "cell_type": "code",
   "execution_count": null,
   "metadata": {},
   "outputs": [],
   "source": [
    "columns = test.columns\n",
    "n_figs = len(columns)\n",
    "n_cols = 4\n",
    "n_rows = 1\n",
    "\n",
    "fig, axes = plt.subplots(figsize=(n_cols * 3, n_rows * 3), ncols=n_cols, nrows=n_rows)\n",
    "\n",
    "for c, ax in zip(columns, axes.ravel()):\n",
    "    venn2(\n",
    "        subsets=(set(train[c].unique()), set(test[c].unique())),\n",
    "        set_labels=('Train', 'Test'),\n",
    "        ax=ax\n",
    "    )\n",
    "    ax.set_title(c)\n",
    "\n",
    "fig.tight_layout()"
   ]
  },
  {
   "cell_type": "code",
   "execution_count": null,
   "metadata": {},
   "outputs": [],
   "source": [
    "sns.distplot(x=train['Store'],kde=True,norm_hist=True)\n",
    "sns.distplot(x=test['Store'],kde=True,norm_hist=True)"
   ]
  },
  {
   "cell_type": "code",
   "execution_count": null,
   "metadata": {},
   "outputs": [],
   "source": [
    "sns.distplot(x=train['Dept'],kde=True,norm_hist=True)\n",
    "sns.distplot(x=test['Dept'],kde=True,norm_hist=True)"
   ]
  },
  {
   "cell_type": "markdown",
   "metadata": {},
   "source": [
    "# 時系列で可視化する\n",
    "- 週ごとの合計売上見ると、一年毎のトレンドがある\n",
    "- DeptでもStoreでも一年ごとのトレンド有り\n",
    "- Store毎に得意なDeptがある\n",
    "- 金曜日にしか記録とってなかった\n",
    "- クリスマスめっちゃ売上良い-特別な処理するべき？\n",
    "- Deptは割とばらついてるので、Dept毎にモデル作っても良さそう\n",
    "- 年ごとの相関強すぎ。一年前の売上提出するだけでそこそこ良い精度出そう"
   ]
  },
  {
   "cell_type": "code",
   "execution_count": null,
   "metadata": {},
   "outputs": [],
   "source": [
    "train['Date'] = train['Date'].parallel_apply(lambda x:dt.strptime(x,'%Y-%m-%d'))\n",
    "test['Date'] = test['Date'].parallel_apply(lambda x:dt.strptime(x,'%Y-%m-%d'))\n",
    "\n",
    "train['Year'] = train['Date'].dt.year\n",
    "train['Week'] = train['Date'].dt.week\n",
    "test['Year'] = test['Date'].dt.year\n",
    "test['Week'] = test['Date'].dt.week"
   ]
  },
  {
   "cell_type": "code",
   "execution_count": null,
   "metadata": {},
   "outputs": [],
   "source": [
    "#Store毎の時系列\n",
    "pivot = pd.pivot_table(data=train,columns='Date',index='Store',values='Weekly_Sales')\n",
    "fig, ax = plt.subplots(figsize=(30, 30))\n",
    "sns.heatmap(pivot,ax=ax,cmap='Blues')"
   ]
  },
  {
   "cell_type": "code",
   "execution_count": null,
   "metadata": {},
   "outputs": [],
   "source": [
    "#Dept毎の売上\n",
    "pivot = pd.pivot_table(data=train,columns='Date',index='Dept',values='Weekly_Sales')\n",
    "fig, ax = plt.subplots(figsize=(30, 30))\n",
    "sns.heatmap(pivot,ax=ax,cmap='Blues')"
   ]
  },
  {
   "cell_type": "code",
   "execution_count": null,
   "metadata": {},
   "outputs": [],
   "source": [
    "#合計の時系列、うまいやり方がわからない教えてほしいです。。。\n",
    "fig, ax = plt.subplots(figsize=(20, 6))\n",
    "sum_sales = pd.DataFrame(pivot.sum())\n",
    "sum_sales['IsHoliday'] = train.groupby('Date')['IsHoliday'].mean()\n",
    "sum_sales.reset_index(inplace=True)\n",
    "sns.pointplot(data=sum_sales,x='Date',y=0,hue='IsHoliday')\n",
    "sns.pointplot(data=sum_sales,x='Date',y=0)"
   ]
  },
  {
   "cell_type": "code",
   "execution_count": null,
   "metadata": {},
   "outputs": [],
   "source": [
    "#時系列じゃないけど、Dept,Storeのpivot_table見る\n",
    "#Store毎に得意なDeptがありそう\n",
    "pivot = pd.pivot_table(data=train,columns='Dept',index='Store',values='Weekly_Sales')\n",
    "fig, ax = plt.subplots(figsize=(30, 30))\n",
    "sns.heatmap(pivot,ax=ax,cmap='Blues')"
   ]
  },
  {
   "cell_type": "code",
   "execution_count": null,
   "metadata": {},
   "outputs": [],
   "source": [
    "train['Day'] = train['Date'].parallel_apply(lambda x:x.strftime('%A'))\n",
    "train['Month'] = train['Date'].parallel_apply(lambda x:int(x.strftime('%m')))"
   ]
  },
  {
   "cell_type": "code",
   "execution_count": null,
   "metadata": {},
   "outputs": [],
   "source": [
    "#Storeの月ごと売上\n",
    "pivot = pd.pivot_table(data=train,columns='Month',index='Store',values='Weekly_Sales')\n",
    "fig, ax = plt.subplots(figsize=(30, 30))\n",
    "sns.heatmap(pivot,ax=ax,cmap='Blues')"
   ]
  },
  {
   "cell_type": "code",
   "execution_count": null,
   "metadata": {},
   "outputs": [],
   "source": [
    "#月合計の時系列\n",
    "fig, ax = plt.subplots(figsize=(20, 6))\n",
    "pivot.sum().plot(ax=ax)\n",
    "ax.grid()\n",
    "ax.set_title('Weekly_Salse_sum_by_Month')\n",
    "fig.tight_layout()"
   ]
  },
  {
   "cell_type": "code",
   "execution_count": null,
   "metadata": {},
   "outputs": [],
   "source": [
    "#週ごとの合計時系列\n",
    "sales = pd.DataFrame(train.groupby(['Year','Week'])['Weekly_Sales'].sum()).reset_index()\n",
    "fig = plt.figure(figsize=(20,10))\n",
    "sns.pointplot(data=sales,x='Week',y='Weekly_Sales',hue='Year')\n",
    "plt.title('Compair Weekly_Sales')"
   ]
  },
  {
   "cell_type": "code",
   "execution_count": null,
   "metadata": {},
   "outputs": [],
   "source": [
    "print(pd.pivot_table(sales,index='Week',columns='Year',values='Weekly_Sales').corr())"
   ]
  },
  {
   "cell_type": "code",
   "execution_count": null,
   "metadata": {},
   "outputs": [],
   "source": [
    "#Storeの曜日ごと売上\n",
    "pivot = pd.pivot_table(data=train,columns='Day',index='Store',values='Weekly_Sales')\n",
    "fig, ax = plt.subplots(figsize=(30, 30))\n",
    "sns.heatmap(pivot,ax=ax,cmap='Blues')"
   ]
  },
  {
   "cell_type": "markdown",
   "metadata": {},
   "source": [
    "# EDAまとめ\n",
    "- 時系列で見たときの動きは全体的に一緒。というか一年ごとの相関強すぎる\n",
    "- CVの切り方難しい、LightGBMならをカテゴリとみなして適当にやってもどうにかしてくれるか？？\n",
    "- Model  \n",
    "    1.Store,DeptをEmbeddingしてTransformerかLSTM(実装大変、時間かかる、精度出そう、過去の情報使いまくりで強そう)  \n",
    "        - トレンドが長めに見えるからTransformerのほうが強そう  \n",
    "    2.Dateを何周目という特徴にしてLightGBM(実装楽、時間そこそこ、精度そこそこ,過去の情報が上手く使えなさそう？)  \n",
    "    3.統計モデル(ARMA等)も強そう。(実装初めて、計算早そう、精度わからん)  \n",
    "    4.TimeSeriesKnnとかも良さげ\n",
    "- 特徴量 \n",
    "    - Month,何週目か\n",
    "    - 移動平均\n",
    "    - 自己相関\n",
    "    - 自己変化率\n",
    "    - n期前との差分\n",
    "    - 月ごとのSum_Sales\n",
    "    - クリスマスとかデカ目のイベントはフラグ立てる"
   ]
  },
  {
   "cell_type": "code",
   "execution_count": null,
   "metadata": {},
   "outputs": [],
   "source": [
    "test['']"
   ]
  },
  {
   "cell_type": "code",
   "execution_count": null,
   "metadata": {},
   "outputs": [],
   "source": []
  }
 ],
 "metadata": {
  "kernelspec": {
   "display_name": "Python 3",
   "language": "python",
   "name": "python3"
  },
  "language_info": {
   "codemirror_mode": {
    "name": "ipython",
    "version": 3
   },
   "file_extension": ".py",
   "mimetype": "text/x-python",
   "name": "python",
   "nbconvert_exporter": "python",
   "pygments_lexer": "ipython3",
   "version": "3.8.5"
  }
 },
 "nbformat": 4,
 "nbformat_minor": 2
}
