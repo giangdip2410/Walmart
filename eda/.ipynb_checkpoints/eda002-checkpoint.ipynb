{
 "cells": [
  {
   "cell_type": "markdown",
   "metadata": {},
   "source": [
    "# EDA2\n",
    "- featuresとstoresの存在完全に忘れてた。考察していく"
   ]
  },
  {
   "cell_type": "code",
   "execution_count": null,
   "metadata": {},
   "outputs": [],
   "source": [
    "import numpy as np\n",
    "import pandas as pd\n",
    "import matplotlib.pyplot as plt\n",
    "import seaborn as sns\n",
    "from matplotlib_venn import venn2\n",
    "from ptitprince import RainCloud\n",
    "from pandarallel import pandarallel\n",
    "from datetime import datetime as dt\n",
    "import math\n",
    "pandarallel.initialize()"
   ]
  },
  {
   "cell_type": "code",
   "execution_count": null,
   "metadata": {},
   "outputs": [],
   "source": [
    "INPUT = '../input/'"
   ]
  },
  {
   "cell_type": "code",
   "execution_count": null,
   "metadata": {},
   "outputs": [],
   "source": [
    "train = pd.read_csv(INPUT+'train.csv')\n",
    "test = pd.read_csv(INPUT+'test.csv')\n",
    "features = pd.read_csv(INPUT+'features.csv')\n",
    "stores = pd.read_csv(INPUT+'stores.csv')\n",
    "sample = pd.read_csv(INPUT+'sampleSubmission.csv')"
   ]
  },
  {
   "cell_type": "code",
   "execution_count": null,
   "metadata": {},
   "outputs": [],
   "source": [
    "train"
   ]
  },
  {
   "cell_type": "markdown",
   "metadata": {},
   "source": [
    "# とりあえず見る\n",
    "- Markdownの作られ方があんまり想像できない。マイナスもあるし広告効果てきなのを数値化したのか？\n",
    "- 当たり前だけどDept毎の情報がないから行数少ない\n",
    "- Fuel_PriceとTempretureで地域特定できそうstore毎に２つの平均値を出すとか\n",
    "- storesはマージするだけで良さげ\n",
    "- cpiとunemploymentの欠損数同じ。なんかあっただろうから補完か特徴にする"
   ]
  },
  {
   "cell_type": "code",
   "execution_count": null,
   "metadata": {},
   "outputs": [],
   "source": [
    "features"
   ]
  },
  {
   "cell_type": "code",
   "execution_count": null,
   "metadata": {},
   "outputs": [],
   "source": [
    "features.info()"
   ]
  },
  {
   "cell_type": "code",
   "execution_count": null,
   "metadata": {},
   "outputs": [],
   "source": [
    "features.isnull().sum()"
   ]
  },
  {
   "cell_type": "code",
   "execution_count": null,
   "metadata": {},
   "outputs": [],
   "source": [
    "features.describe().T"
   ]
  },
  {
   "cell_type": "code",
   "execution_count": null,
   "metadata": {},
   "outputs": [],
   "source": [
    "stores"
   ]
  },
  {
   "cell_type": "code",
   "execution_count": null,
   "metadata": {},
   "outputs": [],
   "source": [
    "stores.info()"
   ]
  },
  {
   "cell_type": "code",
   "execution_count": null,
   "metadata": {},
   "outputs": [],
   "source": [
    "stores['Type'].value_counts()"
   ]
  },
  {
   "cell_type": "markdown",
   "metadata": {},
   "source": [
    "# Weekly_Salesと各特徴の関係を見ていく\n",
    "- weekly_Salesと相関のある特徴は殆ど無い、消すか迷う。決定木使うならとりあえず入れる(ゴミみたいな特徴量入れても精度悪化しにくいので)\n"
   ]
  },
  {
   "cell_type": "code",
   "execution_count": null,
   "metadata": {},
   "outputs": [],
   "source": [
    "train_feat_df = pd.merge(train,features.drop(columns='IsHoliday'),how='left',on=['Store','Date'])\n",
    "train_feat_df = pd.merge(train_feat_df,stores,how='left',on='Store')\n",
    "test_feat_df = pd.merge(test,features.drop(columns='IsHoliday'),how='left',on=['Store','Date'])\n",
    "test_feat_df = pd.merge(test_feat_df,stores,how='left',on='Store')"
   ]
  },
  {
   "cell_type": "code",
   "execution_count": null,
   "metadata": {},
   "outputs": [],
   "source": [
    "train_corr = train_feat_df.corr()\n",
    "test_corr = test_feat_df.corr()"
   ]
  },
  {
   "cell_type": "code",
   "execution_count": null,
   "metadata": {},
   "outputs": [],
   "source": [
    "fig = plt.figure(figsize=(10,10))\n",
    "sns.heatmap(train_corr,annot=True,cmap='Blues')"
   ]
  },
  {
   "cell_type": "code",
   "execution_count": null,
   "metadata": {},
   "outputs": [],
   "source": [
    "fig = plt.figure(figsize=(10,10))\n",
    "sns.heatmap(test_corr,annot=True,cmap='Blues')"
   ]
  },
  {
   "cell_type": "code",
   "execution_count": null,
   "metadata": {},
   "outputs": [],
   "source": [
    "train_corr['Weekly_Sales'].sort_values()"
   ]
  },
  {
   "cell_type": "code",
   "execution_count": null,
   "metadata": {},
   "outputs": [],
   "source": [
    "#結構時間かかる\n",
    "columns = train_corr.drop(columns=['Store','Dept','Weekly_Sales'],axis=1).columns\n",
    "n_figs = len(columns)\n",
    "n_cols = 4\n",
    "n_rows = math.ceil(n_figs/n_cols)\n",
    "\n",
    "fig, axes = plt.subplots(figsize=(n_cols * 3, n_rows * 3), ncols=n_cols, nrows=n_rows)\n",
    "\n",
    "for c, ax in zip(columns, axes.ravel()):\n",
    "    sns.scatterplot(data=train_feat_df,x=c,y='Weekly_Sales',ax=ax)\n",
    "    ax.set_title(c)\n",
    "fig.tight_layout()"
   ]
  }
 ],
 "metadata": {
  "kernelspec": {
   "display_name": "Python 3",
   "language": "python",
   "name": "python3"
  },
  "language_info": {
   "codemirror_mode": {
    "name": "ipython",
    "version": 3
   },
   "file_extension": ".py",
   "mimetype": "text/x-python",
   "name": "python",
   "nbconvert_exporter": "python",
   "pygments_lexer": "ipython3",
   "version": "3.8.5"
  }
 },
 "nbformat": 4,
 "nbformat_minor": 2
}
